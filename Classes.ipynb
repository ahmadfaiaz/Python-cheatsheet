{
 "cells": [
  {
   "cell_type": "code",
   "execution_count": null,
   "metadata": {},
   "outputs": [],
   "source": [
    "# Tutorial-1 - Class Instance"
   ]
  },
  {
   "cell_type": "code",
   "execution_count": 2,
   "metadata": {},
   "outputs": [
    {
     "name": "stdout",
     "output_type": "stream",
     "text": [
      "Ahmad Faiaz\n",
      "Ahmad Faiaz\n"
     ]
    }
   ],
   "source": [
    "class Employee():\n",
    "\tdef __init__(self, firsName, lastName):\n",
    "\t\tself.firsName = firsName\n",
    "\t\tself.lastName = lastName\n",
    "\t\n",
    "\t\n",
    "\tdef displayEmployee(self):\n",
    "\t\treturn self.firsName + \" \" + self.lastName\n",
    "\n",
    "\t\n",
    "emp1 = Employee(\"Ahmad\", \"Faiaz\")\n",
    "\n",
    "print(emp1.displayEmployee())\n",
    "print(Employee.displayEmployee(emp1))\n",
    "\t\n",
    "\n"
   ]
  },
  {
   "cell_type": "code",
   "execution_count": null,
   "metadata": {},
   "outputs": [],
   "source": [
    "# Tutorial-2 - Class variable"
   ]
  },
  {
   "cell_type": "code",
   "execution_count": 5,
   "metadata": {},
   "outputs": [
    {
     "name": "stdout",
     "output_type": "stream",
     "text": [
      "1.5\n",
      "1.2\n",
      "1.2\n"
     ]
    }
   ],
   "source": [
    "class Employee():\n",
    "\n",
    "\traise_amount = 1.2\n",
    "\n",
    "\tdef __init__(self, firsName, lastName, pay):\n",
    "\t\tself.firsName = firsName\n",
    "\t\tself.lastName = lastName\n",
    "\t\tself.pay = pay\n",
    "\t\n",
    "\t\n",
    "\tdef displayEmployee(self):\n",
    "\t\tprint(self.firsName + \" \" + self.lastName)\n",
    "\n",
    "\t\n",
    "\tdef raisSalary(self):\n",
    "\t\tself.pay = self.pay * self.raise_amount\n",
    "\n",
    "\t\n",
    "emp1 = Employee(\"Ahmad\", \"Faiaz\", 5000)\n",
    "emp2 = Employee(\"Mujeeb\", \"Zia\", 5000)\n",
    "\n",
    "emp1.raisSalary()\n",
    "\n",
    "emp1.raise_amount = 1.5\n",
    "\n",
    "print(emp1.raise_amount)\n",
    "print(Employee.raise_amount)\n",
    "print(emp2.raise_amount)\n",
    "\n",
    "# print(emp1.__dict__) # Since we set the value now this instance does contain the raise_amount namespace\n",
    "# print(Employee.__dict__) # Return class namespace # Contain raise_amount namespace\n",
    "# print(emp2.__dict__) # Return Instance namespace # doesn't contain raise_amount namespace\n",
    "\t\n",
    "\n"
   ]
  },
  {
   "cell_type": "code",
   "execution_count": 3,
   "metadata": {},
   "outputs": [
    {
     "ename": "AttributeError",
     "evalue": "'Employee' object has no attribute '__raise_amount'",
     "output_type": "error",
     "traceback": [
      "\u001b[1;31m---------------------------------------------------------------------------\u001b[0m",
      "\u001b[1;31mAttributeError\u001b[0m                            Traceback (most recent call last)",
      "Cell \u001b[1;32mIn[3], line 23\u001b[0m\n\u001b[0;32m     19\u001b[0m emp1 \u001b[38;5;241m=\u001b[39m Employee(\u001b[38;5;124m\"\u001b[39m\u001b[38;5;124mAhmad\u001b[39m\u001b[38;5;124m\"\u001b[39m, \u001b[38;5;124m\"\u001b[39m\u001b[38;5;124mFaiaz\u001b[39m\u001b[38;5;124m\"\u001b[39m, \u001b[38;5;241m5000\u001b[39m)\n\u001b[0;32m     20\u001b[0m \u001b[38;5;66;03m# emp1.raisSalary()\u001b[39;00m\n\u001b[1;32m---> 23\u001b[0m \u001b[38;5;28mprint\u001b[39m(\u001b[43memp1\u001b[49m\u001b[38;5;241;43m.\u001b[39;49m\u001b[43m__raise_amount\u001b[49m)\n\u001b[0;32m     24\u001b[0m \u001b[38;5;28mprint\u001b[39m(Employee\u001b[38;5;241m.\u001b[39m__raise_amount)\n",
      "\u001b[1;31mAttributeError\u001b[0m: 'Employee' object has no attribute '__raise_amount'"
     ]
    }
   ],
   "source": [
    "class Employee():\n",
    "\n",
    "\t__raise_amount = 1.2\n",
    "\n",
    "\tdef __init__(self, firsName, lastName, pay):\n",
    "\t\tself.firsName = firsName\n",
    "\t\tself.lastName = lastName\n",
    "\t\tself.pay = pay\n",
    "\t\n",
    "\t\n",
    "\tdef displayEmployee(self):\n",
    "\t\tprint(self.firsName + \" \" + self.lastName)\n",
    "\n",
    "\t\n",
    "\tdef raisSalary(self):\n",
    "\t\tself.pay = self.pay * self.raise_amount\n",
    "\n",
    "\t\n",
    "emp1 = Employee(\"Ahmad\", \"Faiaz\", 5000)\n",
    "# emp1.raisSalary()\n",
    "\n",
    "\n",
    "print(emp1.__raise_amount)\n",
    "print(Employee.__raise_amount)"
   ]
  },
  {
   "cell_type": "code",
   "execution_count": null,
   "metadata": {},
   "outputs": [],
   "source": [
    "class Car:\n",
    "\n",
    "\tdef test(self):\n",
    "\t\treturn \"hello\"\n",
    "\t\n",
    "\n",
    "class Kia:\n",
    "\n",
    "\tcar = Car()\n",
    "\n",
    "\tdef isCar(self):\n",
    "\t\treturn car.isCar()"
   ]
  },
  {
   "cell_type": "code",
   "execution_count": null,
   "metadata": {},
   "outputs": [],
   "source": [
    "# Tutorial-3 - Regular Method vs Class Method vs Static Method"
   ]
  },
  {
   "cell_type": "code",
   "execution_count": 12,
   "metadata": {},
   "outputs": [
    {
     "name": "stdout",
     "output_type": "stream",
     "text": [
      "Monday\n"
     ]
    }
   ],
   "source": [
    "class Employee():\n",
    "\n",
    "\t__raise_amount = 1.2\n",
    "\n",
    "\tdef __init__(self, firsName, lastName, pay):\n",
    "\t\tself.firsName = firsName\n",
    "\t\tself.lastName = lastName\n",
    "\t\tself.pay = pay\n",
    "\n",
    "\t@classmethod\n",
    "\tdef date(cls, today):\n",
    "\t\treturn today\n",
    "\t\n",
    "emp1 = Employee(\"Ahmad\", \"Bakshi\", 5000)\n",
    "\n",
    "print(Employee.date(\"Monday\"))"
   ]
  },
  {
   "cell_type": "code",
   "execution_count": 21,
   "metadata": {},
   "outputs": [
    {
     "name": "stdout",
     "output_type": "stream",
     "text": [
      "True\n"
     ]
    }
   ],
   "source": [
    "class Employee():\n",
    "\n",
    "\n",
    "\tdef __init__(self, firsName, lastName, pay):\n",
    "\t\tself.firsName = firsName\n",
    "\t\tself.lastName = lastName\n",
    "\t\tself.pay = pay\n",
    "\n",
    "\t@staticmethod\n",
    "\tdef is_workday(day):\n",
    "\t\tif day.weekday() == 5 or day.weekday() == 6:\n",
    "\t\t\treturn False\n",
    "\t\treturn True\n",
    "\t\n",
    "import datetime\n",
    "today = datetime.date(2024, 6, 3)\n",
    "\n",
    "print(Employee.is_workday(today))"
   ]
  },
  {
   "cell_type": "code",
   "execution_count": null,
   "metadata": {},
   "outputs": [],
   "source": [
    "# Tutorial-4 - Inheritance - subclass"
   ]
  },
  {
   "cell_type": "code",
   "execution_count": 40,
   "metadata": {},
   "outputs": [
    {
     "name": "stdout",
     "output_type": "stream",
     "text": [
      "True\n",
      "True\n",
      "Ahmad Bakshi\n",
      "1.2\n",
      "1.5\n",
      "1.2\n"
     ]
    }
   ],
   "source": [
    "class Employee():\n",
    "\n",
    "\traise_amount = 1.2\n",
    "\n",
    "\n",
    "\tdef __init__(self, firsName, lastName, pay):\n",
    "\t\tself.firsName = firsName\n",
    "\t\tself.lastName = lastName\n",
    "\t\tself.pay = pay\n",
    "\n",
    "\tdef displayEmployee(self):\n",
    "\t\treturn self.firsName +\" \"+ self.lastName\n",
    "\t\n",
    "\tdef setRaiseAmount(self):\n",
    "\t\tself.raise_amount = 1.5\n",
    "\n",
    "class Developer(Employee):\n",
    "\tpass\n",
    "\n",
    "dev1 = Developer(\"Ahmad\", \"Bakshi\", 5000)\n",
    "\n",
    "print(isinstance(dev1, Employee))\n",
    "print(issubclass(Developer, Employee))\n",
    "print(dev1.displayEmployee())\n",
    "print(dev1.raise_amount)\n",
    "dev1.setRaiseAmount()\n",
    "print(dev1.raise_amount)\n",
    "print(Employee.raise_amount)\n",
    "#print(help(dev1))"
   ]
  },
  {
   "cell_type": "code",
   "execution_count": 29,
   "metadata": {},
   "outputs": [
    {
     "name": "stdout",
     "output_type": "stream",
     "text": [
      "1.5\n",
      "1.2\n"
     ]
    }
   ],
   "source": [
    "class Employee():\n",
    "\n",
    "\traise_amount = 1.2\n",
    "\n",
    "\n",
    "\tdef __init__(self, firsName, lastName, pay):\n",
    "\t\tself.firsName = firsName\n",
    "\t\tself.lastName = lastName\n",
    "\t\tself.pay = pay\n",
    "\n",
    "\tdef displayEmployee(self):\n",
    "\t\treturn self.firsName +\" \"+ self.lastName\n",
    "\t\n",
    "\tdef setRaiseAmount(self):\n",
    "\t\tself.raise_amount = 1.5\n",
    "\n",
    "class Developer(Employee):\n",
    "\traise_amount = 1.5\n",
    "\n",
    "dev1 = Developer(\"Ahmad\", \"Bakshi\", 5000)\n",
    "\n",
    "print(dev1.raise_amount)\n",
    "print(Employee.raise_amount)\n"
   ]
  },
  {
   "cell_type": "code",
   "execution_count": 30,
   "metadata": {},
   "outputs": [
    {
     "name": "stdout",
     "output_type": "stream",
     "text": [
      "Ahmad Java\n"
     ]
    }
   ],
   "source": [
    "class Employee():\n",
    "\n",
    "\n",
    "\tdef __init__(self, firsName, lastName, pay):\n",
    "\t\tself.firsName = firsName\n",
    "\t\tself.lastName = lastName\n",
    "\t\tself.pay = pay\n",
    "\n",
    "\n",
    "class Developer(Employee):\n",
    "\n",
    "\tdef __init__(self, firsName, lastName, pay, prog_lang):\n",
    "\t\tsuper().__init__(firsName, lastName, pay)\n",
    "\t\t# Employee.__init__(self, firsName, lastName, pay)\n",
    "\t\tself.prog_lang = prog_lang\n",
    "\n",
    "\n",
    "dev1 = Developer(\"Ahmad\", \"Bakshi\", 5000, \"Java\")\n",
    "print(dev1.firsName, dev1.prog_lang)\n"
   ]
  },
  {
   "cell_type": "code",
   "execution_count": 37,
   "metadata": {},
   "outputs": [
    {
     "name": "stdout",
     "output_type": "stream",
     "text": [
      "---> Bakshi\n",
      "---> Zia\n"
     ]
    }
   ],
   "source": [
    "class Employee():\n",
    "\n",
    "\n",
    "\tdef __init__(self, firsName, lastName, pay):\n",
    "\t\tself.firsName = firsName\n",
    "\t\tself.lastName = lastName\n",
    "\t\tself.pay = pay\n",
    "\n",
    "class Developer(Employee):\n",
    "\n",
    "\tdef __init__(self, firsName, lastName, pay, prog_lang):\n",
    "\t\tsuper().__init__(firsName, lastName, pay)\n",
    "\t\t# Employee.__init__(self, firsName, lastName, pay)\n",
    "\t\tself.prog_lang = prog_lang\n",
    "\n",
    "\n",
    "class Manager(Employee):\n",
    "\n",
    "\tdef __init__(self, firsName, lastName, pay, employees=None):\n",
    "\t\tsuper().__init__(firsName, lastName, pay)\n",
    "\t\tif employees is None:\n",
    "\t\t\tself.employees = []\n",
    "\t\telse:\n",
    "\t\t\tself.employees = employees\n",
    "\n",
    "\n",
    "\tdef add_emp(self, emp):\n",
    "\t\tif emp not in self.employees:\n",
    "\t\t\tself.employees.append(emp)\n",
    "\n",
    "\n",
    "\tdef remove_emp(self, emp):\n",
    "\t\tif emp in self.employees:\n",
    "\t\t\tself.employees.remove(emp)\n",
    "\n",
    "\tdef print_emps(self):\n",
    "\t\tfor emp in self.employees:\n",
    "\t\t\tprint(\"--->\", emp.lastName)\n",
    "\n",
    "\n",
    "dev1 = Developer(\"Ahmad\", \"Bakshi\", 5000, \"Java\")\n",
    "dev2 = Developer(\"Mujeeb\", \"Zia\", 10000, \"Python\")\n",
    "\n",
    "mgr1 = Manager(\"Ahmad\", \"Bakshi\", 5000, [dev1])\n",
    "mgr1.add_emp(dev2)\n",
    "\n",
    "mgr1.print_emps()\n"
   ]
  },
  {
   "cell_type": "code",
   "execution_count": null,
   "metadata": {},
   "outputs": [],
   "source": [
    "# Tutorial-5 - Magic Methods"
   ]
  },
  {
   "cell_type": "code",
   "execution_count": 2,
   "metadata": {},
   "outputs": [
    {
     "name": "stdout",
     "output_type": "stream",
     "text": [
      "Employee(\"Ahmad, Bakshi, 5000\")\n"
     ]
    }
   ],
   "source": [
    "class Employee:\n",
    "\n",
    "\tdef __init__(self, firstName, lastName, salary):\n",
    "\t\tself.firstName = firstName\n",
    "\t\tself.lastName = lastName\n",
    "\t\tself.salary = salary\n",
    "\n",
    "\tdef __repr__(self):\n",
    "\t\treturn f'Employee(\"{self.firstName}, {self.lastName}, {self.salary}\")'\n",
    "\t\n",
    "emp1 = Employee(\"Ahmad\", \"Bakshi\", 5000)\n",
    "print(repr(emp1))\n",
    "\t"
   ]
  },
  {
   "cell_type": "code",
   "execution_count": 8,
   "metadata": {},
   "outputs": [],
   "source": [
    "class Food:\n",
    "\tfirstWeekMeal = { \n",
    "\t\t\"Monday\": \"Salmon Fish with Salad\", \n",
    "\t\t\"Tuesday\": \"\",\n",
    "\t\t\"Wednesday\": \"Beans with Salad\",\n",
    "\t\t\"Thursday\": \"Dumplings\",\n",
    "\t\t\"Friday\": \"Chickpease with Salad\"\n",
    "\t\t}\n",
    "\t\n",
    "\tSecondWeekMeal = {\n",
    "\t\t\"Monday\": \"Roll Kabob\",\n",
    "\t\t\"Tuesday\": \"Chicken Tandori\"\n",
    "\t}\n",
    "\n",
    "\tdef addFoodList(self):\n",
    "\t\treturn self.data\n",
    "\n",
    "\n"
   ]
  }
 ],
 "metadata": {
  "kernelspec": {
   "display_name": "jupyter-test",
   "language": "python",
   "name": "python3"
  },
  "language_info": {
   "codemirror_mode": {
    "name": "ipython",
    "version": 3
   },
   "file_extension": ".py",
   "mimetype": "text/x-python",
   "name": "python",
   "nbconvert_exporter": "python",
   "pygments_lexer": "ipython3",
   "version": "3.12.1"
  }
 },
 "nbformat": 4,
 "nbformat_minor": 2
}
