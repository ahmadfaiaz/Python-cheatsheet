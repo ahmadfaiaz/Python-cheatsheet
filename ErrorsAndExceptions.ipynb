{
 "cells": [
  {
   "cell_type": "code",
   "execution_count": 1,
   "metadata": {},
   "outputs": [],
   "source": [
    "try:\n",
    "\tpass\n",
    "except Exception:\n",
    "\tpass\n",
    "else:\n",
    "\tpass\n",
    "finally:\n",
    "\tpass"
   ]
  },
  {
   "cell_type": "code",
   "execution_count": 2,
   "metadata": {},
   "outputs": [
    {
     "name": "stdout",
     "output_type": "stream",
     "text": [
      "File does not exist\n"
     ]
    }
   ],
   "source": [
    "try:\n",
    "\tf = open('fileDoesNotExsit.txt')\n",
    "\tf.close()\n",
    "except FileNotFoundError:\n",
    "\tprint('File does not exist')"
   ]
  },
  {
   "cell_type": "code",
   "execution_count": 5,
   "metadata": {},
   "outputs": [
    {
     "name": "stdout",
     "output_type": "stream",
     "text": [
      "[Errno 2] No such file or directory: 'fileDoesNotExsit.txt'\n"
     ]
    }
   ],
   "source": [
    "try:\n",
    "\tf = open('fileDoesNotExsit.txt')\n",
    "\tf.close()\n",
    "\tvar = var_not_exsit\n",
    "except FileNotFoundError as e:\n",
    "    print(e)\n",
    "except Exception as e:\n",
    "      print(e)"
   ]
  },
  {
   "cell_type": "code",
   "execution_count": 8,
   "metadata": {},
   "outputs": [
    {
     "name": "stdout",
     "output_type": "stream",
     "text": [
      "Potato\n",
      "Tomato\n",
      "cucumber\n",
      "letuce\n",
      "green paper\n"
     ]
    }
   ],
   "source": [
    "try:\n",
    "\tf = open('food.txt', 'r')\n",
    "except FileNotFoundError as e:\n",
    "\tprint(e)\n",
    "except Exception as e:\n",
    "\tprint(e)\n",
    "else:\n",
    "\tprint(f.read())\n",
    "\tf.close()"
   ]
  },
  {
   "cell_type": "code",
   "execution_count": 10,
   "metadata": {},
   "outputs": [
    {
     "name": "stdout",
     "output_type": "stream",
     "text": [
      "Potato\n",
      "Tomato\n",
      "cucumber\n",
      "letuce\n",
      "green paper\n",
      "always printed\n"
     ]
    }
   ],
   "source": [
    "try:\n",
    "\tf = open('food.txt', 'r')\n",
    "except FileNotFoundError as e:\n",
    "\tprint(e)\n",
    "except Exception as e:\n",
    "\tprint(e)\n",
    "else:\n",
    "\tprint(f.read())\n",
    "\tf.close()\n",
    "finally:\n",
    "\tprint('always printed')"
   ]
  },
  {
   "cell_type": "code",
   "execution_count": 13,
   "metadata": {},
   "outputs": [
    {
     "name": "stdout",
     "output_type": "stream",
     "text": [
      "name 'var_not_exists' is not defined\n"
     ]
    }
   ],
   "source": [
    "try:\n",
    "\tf = open('food.txt', 'r')\n",
    "\tvar = var_not_exists\n",
    "except (FileNotFoundError, NameError) as e:\n",
    "\tprint(e)\n",
    "\n"
   ]
  },
  {
   "cell_type": "code",
   "execution_count": 21,
   "metadata": {},
   "outputs": [
    {
     "name": "stdout",
     "output_type": "stream",
     "text": [
      "<class 'Exception'>\n",
      "('created_arg1', 'created_arg2')\n",
      "('created_arg1', 'created_arg2')\n"
     ]
    }
   ],
   "source": [
    "try:\n",
    "\traise Exception('created_arg1', 'created_arg2')\n",
    "\n",
    "except Exception as e:\n",
    "\tprint(type(e))\n",
    "\tprint(e)\n",
    "\tprint(e.args)"
   ]
  },
  {
   "cell_type": "code",
   "execution_count": 23,
   "metadata": {},
   "outputs": [
    {
     "name": "stdout",
     "output_type": "stream",
     "text": [
      "Name error created by ahmad\n"
     ]
    },
    {
     "ename": "NameError",
     "evalue": "Name error created by ahmad",
     "output_type": "error",
     "traceback": [
      "\u001b[1;31m---------------------------------------------------------------------------\u001b[0m",
      "\u001b[1;31mNameError\u001b[0m                                 Traceback (most recent call last)",
      "Cell \u001b[1;32mIn[23], line 2\u001b[0m\n\u001b[0;32m      1\u001b[0m \u001b[38;5;28;01mtry\u001b[39;00m:\n\u001b[1;32m----> 2\u001b[0m \t\u001b[38;5;28;01mraise\u001b[39;00m \u001b[38;5;167;01mNameError\u001b[39;00m(\u001b[38;5;124m\"\u001b[39m\u001b[38;5;124mName error created by ahmad\u001b[39m\u001b[38;5;124m\"\u001b[39m)\n\u001b[0;32m      3\u001b[0m \u001b[38;5;28;01mexcept\u001b[39;00m \u001b[38;5;167;01mNameError\u001b[39;00m \u001b[38;5;28;01mas\u001b[39;00m e:\n\u001b[0;32m      4\u001b[0m \t\u001b[38;5;28mprint\u001b[39m(e)\n",
      "\u001b[1;31mNameError\u001b[0m: Name error created by ahmad"
     ]
    }
   ],
   "source": [
    "try:\n",
    "\traise NameError(\"Name error created by ahmad\")\n",
    "except NameError as e:\n",
    "\tprint(e)\n",
    "\traise"
   ]
  },
  {
   "cell_type": "code",
   "execution_count": 26,
   "metadata": {},
   "outputs": [
    {
     "ename": "TypeError",
     "evalue": "type error created by ahmad",
     "output_type": "error",
     "traceback": [
      "\u001b[1;31m---------------------------------------------------------------------------\u001b[0m",
      "\u001b[1;31mTypeError\u001b[0m                                 Traceback (most recent call last)",
      "Cell \u001b[1;32mIn[26], line 2\u001b[0m\n\u001b[0;32m      1\u001b[0m \u001b[38;5;28;01mtry\u001b[39;00m:\n\u001b[1;32m----> 2\u001b[0m \t\u001b[38;5;28;01mraise\u001b[39;00m \u001b[38;5;167;01mTypeError\u001b[39;00m(\u001b[38;5;124m\"\u001b[39m\u001b[38;5;124mtype error created by ahmad\u001b[39m\u001b[38;5;124m\"\u001b[39m)\n\u001b[0;32m      3\u001b[0m \u001b[38;5;28;01mexcept\u001b[39;00m \u001b[38;5;167;01mTypeError\u001b[39;00m \u001b[38;5;28;01mas\u001b[39;00m e:\n\u001b[0;32m      4\u001b[0m \te\u001b[38;5;241m.\u001b[39madd_note(\u001b[38;5;124m\"\u001b[39m\u001b[38;5;124madditional information created by ahmad\u001b[39m\u001b[38;5;124m\"\u001b[39m)\n",
      "\u001b[1;31mTypeError\u001b[0m: type error created by ahmad",
      "\u001b[0madditional information created by ahmad"
     ]
    }
   ],
   "source": [
    "try:\n",
    "\traise TypeError(\"type error created by ahmad\")\n",
    "except TypeError as e:\n",
    "\te.add_note(\"additional information created by ahmad\")\n",
    "\traise"
   ]
  }
 ],
 "metadata": {
  "kernelspec": {
   "display_name": "jupyter-test",
   "language": "python",
   "name": "python3"
  },
  "language_info": {
   "codemirror_mode": {
    "name": "ipython",
    "version": 3
   },
   "file_extension": ".py",
   "mimetype": "text/x-python",
   "name": "python",
   "nbconvert_exporter": "python",
   "pygments_lexer": "ipython3",
   "version": "3.12.1"
  }
 },
 "nbformat": 4,
 "nbformat_minor": 2
}
