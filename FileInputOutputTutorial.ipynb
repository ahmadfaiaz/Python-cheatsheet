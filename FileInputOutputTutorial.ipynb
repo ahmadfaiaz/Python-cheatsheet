{
 "cells": [
  {
   "cell_type": "code",
   "execution_count": 6,
   "metadata": {},
   "outputs": [
    {
     "name": "stdout",
     "output_type": "stream",
     "text": [
      "food.txt\n"
     ]
    }
   ],
   "source": [
    "f = open(\"food.txt\", \"r\")\n",
    "\n",
    "print(f.name)\n",
    "f.close()"
   ]
  },
  {
   "cell_type": "code",
   "execution_count": 8,
   "metadata": {},
   "outputs": [
    {
     "name": "stdout",
     "output_type": "stream",
     "text": [
      "Potato\n",
      "Tomato\n",
      "cucumber\n",
      "letuce\n",
      "green paper\n"
     ]
    }
   ],
   "source": [
    "f = open(\"food.txt\", \"r\")\n",
    "print(f.read())\n",
    "f.close()"
   ]
  },
  {
   "cell_type": "code",
   "execution_count": 10,
   "metadata": {},
   "outputs": [
    {
     "name": "stdout",
     "output_type": "stream",
     "text": [
      "Pot\n"
     ]
    }
   ],
   "source": [
    "f = open(\"food.txt\", \"r\")\n",
    "print(f.read(3))\n",
    "f.close()"
   ]
  },
  {
   "cell_type": "code",
   "execution_count": 12,
   "metadata": {},
   "outputs": [
    {
     "name": "stdout",
     "output_type": "stream",
     "text": [
      "Potato\n",
      "\n"
     ]
    }
   ],
   "source": [
    "with open(\"food.txt\", \"r\") as f:\n",
    "\tprint(f.readline())"
   ]
  },
  {
   "cell_type": "code",
   "execution_count": 14,
   "metadata": {},
   "outputs": [
    {
     "name": "stdout",
     "output_type": "stream",
     "text": [
      "['Potato\\n', 'Tomato\\n', 'cucumber\\n', 'letuce\\n', 'green paper']\n"
     ]
    }
   ],
   "source": [
    "with open(\"food.txt\", \"r\") as f:\n",
    "\tprint(f.readlines())"
   ]
  },
  {
   "cell_type": "code",
   "execution_count": 15,
   "metadata": {},
   "outputs": [
    {
     "name": "stdout",
     "output_type": "stream",
     "text": [
      "Potato\n",
      "Tomato\n",
      "cucumber\n",
      "letuce\n",
      "green paper\n"
     ]
    }
   ],
   "source": [
    "with open(\"food.txt\", \"r\") as f:\n",
    "\tprint(f.read())"
   ]
  },
  {
   "cell_type": "code",
   "execution_count": 20,
   "metadata": {},
   "outputs": [
    {
     "name": "stdout",
     "output_type": "stream",
     "text": [
      "Potato\n",
      "Tomato\n",
      "\n"
     ]
    }
   ],
   "source": [
    "with open(\"food.txt\", \"r\") as f:\n",
    "\treadFile = f.readline()\n",
    "\tprint(readFile, end=\"\")\n",
    "\treadFile = f.readline()\n",
    "\tprint(readFile)"
   ]
  },
  {
   "cell_type": "code",
   "execution_count": 22,
   "metadata": {},
   "outputs": [
    {
     "name": "stdout",
     "output_type": "stream",
     "text": [
      "Potato\n",
      "Tomato\n",
      "cucumber\n",
      "letuce\n",
      "green paper"
     ]
    }
   ],
   "source": [
    "with open(\"food.txt\", \"r\") as f:\n",
    "\tfor line in f:\n",
    "\t\tprint(line, end=\"\")"
   ]
  },
  {
   "cell_type": "code",
   "execution_count": 23,
   "metadata": {},
   "outputs": [
    {
     "name": "stdout",
     "output_type": "stream",
     "text": [
      "Potato\n",
      "Tom***********ato\n",
      "cucumb***********er\n",
      "letuce\n",
      "***********green pape***********r***********"
     ]
    }
   ],
   "source": [
    "with open(\"food.txt\", \"r\") as f:\n",
    "\tread_chunk_size = 10\n",
    "\tline = f.read(read_chunk_size)\n",
    "\twhile len(line) > 0:\n",
    "\t\tprint(line, end=\"***********\")\n",
    "\t\tline = f.read(read_chunk_size)"
   ]
  },
  {
   "cell_type": "code",
   "execution_count": 33,
   "metadata": {},
   "outputs": [
    {
     "name": "stdout",
     "output_type": "stream",
     "text": [
      "Potato\n",
      "Tom***********Potato\n",
      "Tom"
     ]
    }
   ],
   "source": [
    "with open(\"food.txt\", \"r\") as f:\n",
    "\tread_chunk_size = 10\n",
    "\n",
    "\tline = f.read(read_chunk_size)\n",
    "\tprint(line, end=\"***********\")\n",
    "\n",
    "\tf.seek(0)\n",
    "\n",
    "\tline = f.read(read_chunk_size)\n",
    "\tprint(line, end=\"\")"
   ]
  },
  {
   "cell_type": "code",
   "execution_count": 32,
   "metadata": {},
   "outputs": [
    {
     "name": "stdout",
     "output_type": "stream",
     "text": [
      "Potato\n",
      "Tom \n",
      "\n",
      "end of the file read>>>>> 11\n",
      "\n",
      "\n",
      "ato\n",
      "cucumb \n",
      "\n",
      "end of the file read>>>>>> 22\n"
     ]
    }
   ],
   "source": [
    "with open(\"food.txt\", \"r\") as f:\n",
    "\tread_chunk_size = 10\n",
    "\n",
    "\tline = f.read(read_chunk_size)\n",
    "\tprint(line, \"\\n\")\n",
    "\n",
    "\tprint(\"end of the file read>>>>>\", f.tell())\n",
    "\tprint(\"\\n\")\n",
    "\n",
    "\tline = f.read(read_chunk_size)\n",
    "\tprint(line, \"\\n\")\n",
    "\n",
    "\tprint(\"end of the file read>>>>>>\", f.tell())"
   ]
  },
  {
   "cell_type": "code",
   "execution_count": 35,
   "metadata": {},
   "outputs": [],
   "source": [
    "with open(\"food2.txt\", \"w\") as f:\n",
    "\tpass"
   ]
  },
  {
   "cell_type": "code",
   "execution_count": 2,
   "metadata": {},
   "outputs": [],
   "source": [
    "# seek will overide the existing file\n",
    "with open(\"food2.txt\", \"w\") as f:\n",
    "\tf.write(\"Test\")\n",
    "\tf.seek(0)\n",
    "\tf.write(\"R\")\n",
    "\n",
    "# The resule is >>> Rest <<<<<"
   ]
  },
  {
   "cell_type": "code",
   "execution_count": 11,
   "metadata": {},
   "outputs": [],
   "source": [
    "#seek() supporting args { 0 = beginning, 1 = current, 2 = end }\n",
    "\n",
    "with open(\"food2.txt\", \"w\") as f:\n",
    "\tf.write(\"Test album from Arjit Singh representing\")\n",
    "\tf.seek(2)\n",
    "\tf.write(\"Ahmad\")\n"
   ]
  },
  {
   "cell_type": "code",
   "execution_count": 12,
   "metadata": {},
   "outputs": [
    {
     "name": "stdout",
     "output_type": "stream",
     "text": [
      "[123, \"ahmad\", \"bakshi\"]\n"
     ]
    }
   ],
   "source": [
    "import json\n",
    "\n",
    "x = [123, 'ahmad', 'bakshi']\n",
    "print(json.dumps(x))"
   ]
  },
  {
   "cell_type": "code",
   "execution_count": 25,
   "metadata": {},
   "outputs": [],
   "source": [
    "with open(\"food2.txt\", \"w\") as f:\n",
    "\n",
    "\tjson.dump(x, f)"
   ]
  },
  {
   "cell_type": "code",
   "execution_count": 28,
   "metadata": {},
   "outputs": [
    {
     "name": "stdout",
     "output_type": "stream",
     "text": [
      "[123, 'ahmad', 'bakshi']\n"
     ]
    }
   ],
   "source": [
    "with open(\"food2.txt\", \"r\") as f:\n",
    "\n",
    "\ty = json.load(f)\n",
    "\tprint(y)"
   ]
  },
  {
   "cell_type": "code",
   "execution_count": null,
   "metadata": {},
   "outputs": [],
   "source": []
  }
 ],
 "metadata": {
  "kernelspec": {
   "display_name": "base",
   "language": "python",
   "name": "python3"
  },
  "language_info": {
   "codemirror_mode": {
    "name": "ipython",
    "version": 3
   },
   "file_extension": ".py",
   "mimetype": "text/x-python",
   "name": "python",
   "nbconvert_exporter": "python",
   "pygments_lexer": "ipython3",
   "version": "3.12.1"
  }
 },
 "nbformat": 4,
 "nbformat_minor": 2
}
